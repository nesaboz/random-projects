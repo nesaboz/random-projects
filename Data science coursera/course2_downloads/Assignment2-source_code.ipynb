{
 "cells": [
  {
   "cell_type": "markdown",
   "metadata": {},
   "source": [
    "# Assignment 2\n",
    "\n",
    "Before working on this assignment please read these instructions fully. In the submission area, you will notice that you can click the link to **Preview the Grading** for each step of the assignment. This is the criteria that will be used for peer grading. Please familiarize yourself with the criteria before beginning the assignment.\n",
    "\n",
    "An NOAA dataset has been stored in the file `data/C2A2_data/BinnedCsvs_d400/e0cb0f071810107c25704c4c7c865f31749f7e121425e29e3bb131e6.csv`. The data for this assignment comes from a subset of The National Centers for Environmental Information (NCEI) [Daily Global Historical Climatology Network](https://www1.ncdc.noaa.gov/pub/data/ghcn/daily/readme.txt) (GHCN-Daily). The GHCN-Daily is comprised of daily climate records from thousands of land surface stations across the globe.\n",
    "\n",
    "Each row in the assignment datafile corresponds to a single observation.\n",
    "\n",
    "The following variables are provided to you:\n",
    "\n",
    "* **id** : station identification code\n",
    "* **date** : date in YYYY-MM-DD format (e.g. 2012-01-24 = January 24, 2012)\n",
    "* **element** : indicator of element type\n",
    "    * TMAX : Maximum temperature (tenths of degrees C)\n",
    "    * TMIN : Minimum temperature (tenths of degrees C)\n",
    "* **value** : data value for element (tenths of degrees C)\n",
    "\n",
    "For this assignment, you must:\n",
    "\n",
    "1. Read the documentation and familiarize yourself with the dataset, then write some python code which returns a line graph of the record high and record low temperatures by day of the year over the period 2005-2014. The area between the record high and record low temperatures for each day should be shaded.\n",
    "2. Overlay a scatter of the 2015 data for any points (highs and lows) for which the ten year record (2005-2014) record high or record low was broken in 2015.\n",
    "3. Watch out for leap days (i.e. February 29th), it is reasonable to remove these points from the dataset for the purpose of this visualization.\n",
    "4. Make the visual nice! Leverage principles from the first module in this course when developing your solution. Consider issues such as legends, labels, and chart junk.\n",
    "\n",
    "The data you have been given is near **Berkeley, California, United States**, and the stations the data comes from are shown on the map below."
   ]
  },
  {
   "cell_type": "code",
   "execution_count": null,
   "metadata": {
    "collapsed": false
   },
   "outputs": [],
   "source": [
    "import matplotlib.pyplot as plt\n",
    "import mplleaflet\n",
    "import pandas as pd\n",
    "\n",
    "def leaflet_plot_stations(binsize, hashid):\n",
    "\n",
    "    df = pd.read_csv('data/C2A2_data/BinSize_d{}.csv'.format(binsize))\n",
    "\n",
    "    station_locations_by_hash = df[df['hash'] == hashid]\n",
    "\n",
    "    lons = station_locations_by_hash['LONGITUDE'].tolist()\n",
    "    lats = station_locations_by_hash['LATITUDE'].tolist()\n",
    "\n",
    "    plt.figure(figsize=(8,8))\n",
    "\n",
    "    plt.scatter(lons, lats, c='r', alpha=0.7, s=200)\n",
    "    number_of_stations = len(station_locations_by_hash)\n",
    "    return mplleaflet.display(), number_of_stations\n",
    "\n",
    "map_plot, number_of_stations = leaflet_plot_stations(400,'e0cb0f071810107c25704c4c7c865f31749f7e121425e29e3bb131e6')"
   ]
  },
  {
   "cell_type": "code",
   "execution_count": null,
   "metadata": {
    "collapsed": false
   },
   "outputs": [],
   "source": [
    "map_plot"
   ]
  },
  {
   "cell_type": "code",
   "execution_count": null,
   "metadata": {
    "collapsed": false
   },
   "outputs": [],
   "source": [
    "df = pd.read_csv('data/C2A2_data/BinnedCsvs_d400/e0cb0f071810107c25704c4c7c865f31749f7e121425e29e3bb131e6.csv', skiprows=1, names = ['id', 'date', 'element', 'data_value'])\n",
    "df.head()"
   ]
  },
  {
   "cell_type": "code",
   "execution_count": null,
   "metadata": {
    "collapsed": false
   },
   "outputs": [],
   "source": [
    "import numpy as np"
   ]
  },
  {
   "cell_type": "code",
   "execution_count": null,
   "metadata": {
    "collapsed": false
   },
   "outputs": [],
   "source": [
    "df1 = df[['date','element','data_value']]\n",
    "df_low = df1[df1['element'] == 'TMIN']\n",
    "df_high = df1[df1['element'] == 'TMAX']\n",
    "df_high.head()"
   ]
  },
  {
   "cell_type": "code",
   "execution_count": null,
   "metadata": {
    "collapsed": false
   },
   "outputs": [],
   "source": [
    "a = []\n",
    "for counter, date in enumerate(np.unique(df.date)):\n",
    "    if counter % 100 == 0:\n",
    "        print(counter)\n",
    "    low = np.min(df_low[df_low.date == date].data_value)\n",
    "    high = np.max(df_high[df_high.date == date].data_value)\n",
    "    a.append((date, low, high))"
   ]
  },
  {
   "cell_type": "code",
   "execution_count": null,
   "metadata": {
    "collapsed": false
   },
   "outputs": [],
   "source": [
    "# generate dataframe\n",
    "df = pd.DataFrame(a, columns=['date','low','high'])\n",
    "# add just_year and just_date columns\n",
    "df['just_year'] = df.date.str[:4]\n",
    "df['just_date'] = df.date.str[5:]\n",
    "# remove leap year dates\n",
    "df = df[df['just_date'] != '02-29']\n",
    "# divide by 10\n",
    "df['low'] /= 10.0\n",
    "df['high'] /= 10.0\n",
    "df"
   ]
  },
  {
   "cell_type": "code",
   "execution_count": null,
   "metadata": {
    "collapsed": false
   },
   "outputs": [],
   "source": [
    "# extract 2015 data and rename columns\n",
    "df1 = pd.DataFrame(df[df.just_year == '2015'][['just_date', 'low', 'high']]).rename(columns={'just_date': 'date', 'low': '2015_low', 'high':'2015_high'})\n",
    "# find lowest and highest temperatures for all but 2015 year\n",
    "df1['lowest_not_2015'] = None\n",
    "df1['highest_not_2015'] = None\n",
    "for date in df1.date:\n",
    "    df1['lowest_not_2015'][df1['date'] == date] = np.min(df[df['just_date'] == date][df['just_year'] != '2015']['low'])\n",
    "    df1['highest_not_2015'][df1['date'] == date] = np.max(df[df['just_date'] == date][df['just_year'] != '2015']['high'])\n",
    "df1['full_date'] = '2015-' + df1['date']\n",
    "df1.head()"
   ]
  },
  {
   "cell_type": "code",
   "execution_count": null,
   "metadata": {
    "collapsed": false
   },
   "outputs": [],
   "source": [
    "df1['lowest'] = df1[['lowest_not_2015','2015_low']].min(axis=1)\n",
    "df1['highest'] = df1[['highest_not_2015','2015_high']].max(axis=1)\n",
    "df1['low_record_broken_in_2015'] = df1['2015_low'] < df1['lowest_not_2015']\n",
    "df1['high_record_broken_in_2015'] = df1['2015_high'] > df1['highest_not_2015']\n",
    "df1.head()"
   ]
  },
  {
   "cell_type": "code",
   "execution_count": null,
   "metadata": {
    "collapsed": false
   },
   "outputs": [],
   "source": [
    "low_records_broken = df1[df1.low_record_broken_in_2015 == True][['full_date', 'lowest']]\n",
    "high_records_broken = df1[df1.high_record_broken_in_2015 == True][['full_date', 'highest']]\n",
    "\n",
    "number_of_records_broken = len(low_records_broken) + len(high_records_broken)\n",
    "low_records_broken"
   ]
  },
  {
   "cell_type": "code",
   "execution_count": null,
   "metadata": {
    "collapsed": false
   },
   "outputs": [],
   "source": [
    "# plt.figure()\n",
    "observation_dates = list(map(pd.to_datetime, df1.full_date)) \n",
    "plt.plot(observation_dates, df1.highest_not_2015, '-', observation_dates, df1.lowest_not_2015, '-', linewidth=0.25)\n",
    "plt.gca().fill_between(observation_dates, df1.highest,  df1.lowest, facecolor='blue', alpha=0.15)\n",
    "plt.ylabel('Temperature ($^o$C)')\n",
    "# plt.title('Weather temperature range for Berkeley, CA')\n",
    "s1 = \"2015 was an extreme year for Berkeley (CA) with 1 in 6 days setting record temperatures in a decade\"\n",
    "# plt.title(s1)\n",
    "s2 = \"{} days had record lowest and {} record\\nhighest temperatures (total of {} or {} %)\".format(\n",
    "    len(low_records_broken), \n",
    "    len(high_records_broken), \n",
    "    number_of_records_broken,\n",
    "    round(number_of_records_broken/365.0*100))\n",
    "s3 = \"Data collected from {} weather stations.\".format(number_of_stations)\n",
    "        \n",
    "s4 = \"Source: The National Centers for Environmental Information (NCEI).\\nhttps://www1.ncdc.noaa.gov/pub/data/ghcn/daily/readme.txt\"\n",
    "    \n",
    "plt.text('2014-10-17', 60, s1, weight='bold', fontsize=12)\n",
    "\n",
    "plt.text('2016-02-01', 5, '\\n'.join([s2,s3]), fontsize=12)\n",
    "\n",
    "plt.text('2016-02-01', -20, s4, fontsize=8)\n",
    "# remove all the ticks (both axes), and tick labels on the Y axis\n",
    "plt.tick_params(top='off', bottom='off', left='off', right='off', labelbottom='on')\n",
    "plt.xticks(['2015-{}-15'.format(str(i).zfill(2)) for i in range(1,13)],\n",
    "           [\"Jan\", \"Feb\", \"Mar\", \"Apr\", \"May\", \"Jun\", \"Jul\", \"Aug\", \"Sep\", \"Oct\", \"Nov\", \"Dec\"])\n",
    "# remove the frame of the chart\n",
    "for spine in plt.gca().spines.values():\n",
    "    spine.set_visible(False)\n",
    "    \n",
    "plt.plot(high_records_broken.full_date, high_records_broken.highest, 'o',markersize=3)\n",
    "plt.plot(low_records_broken.full_date, low_records_broken.lowest, 'o', markersize=3)\n",
    "plt.legend(['Highest temperature for 2005-2014 span', 'Lowest temperature for 2005-2014 span', 'Record breaking high in 2015', 'Record breaking low in 2015'], bbox_to_anchor=(1.04,1), loc=\"upper left\")\n",
    "\n",
    "plt.show()"
   ]
  },
  {
   "cell_type": "code",
   "execution_count": null,
   "metadata": {
    "collapsed": false
   },
   "outputs": [],
   "source": [
    "\n",
    "\n",
    "# plt.figure()\n",
    "\n",
    "# languages =['Python', 'SQL', 'Java', 'C++', 'JavaScript']\n",
    "# pos = np.arange(len(languages))\n",
    "# popularity = [56, 39, 34, 34, 29]\n",
    "\n",
    "# # change the bar colors to be less bright blue\n",
    "# bars = plt.bar(pos, popularity, align='center', linewidth=0, color='lightslategrey')\n",
    "# # make one bar, the python bar, a contrasting color\n",
    "# bars[0].set_color('#1F77B4')\n",
    "\n",
    "# # soften all labels by turning grey\n",
    "# plt.xticks(pos, languages, alpha=0.8)\n",
    "\n",
    "# # TODO: remove the Y label since bars are directly labeled\n",
    "# # plt.ylabel('% Popularity', alpha=0.8)\n",
    "# plt.title('Top 5 Languages for Math & Data \\nby % popularity on Stack Overflow', alpha=0.8)\n",
    "\n",
    "# # remove all the ticks (both axes), and tick labels on the Y axis\n",
    "# plt.tick_params(top='off', bottom='off', left='off', right='off', labelleft='off', labelbottom='on')\n",
    "\n",
    "# # remove the frame of the chart\n",
    "# for spine in plt.gca().spines.values():\n",
    "#     spine.set_visible(False)\n",
    "    \n",
    "# # TODO: direct label each bar with Y axis values\n",
    "# plt.show()"
   ]
  }
 ],
 "metadata": {
  "kernelspec": {
   "display_name": "Python 3",
   "language": "python",
   "name": "python3"
  },
  "language_info": {
   "codemirror_mode": {
    "name": "ipython",
    "version": 3
   },
   "file_extension": ".py",
   "mimetype": "text/x-python",
   "name": "python",
   "nbconvert_exporter": "python",
   "pygments_lexer": "ipython3",
   "version": "3.5.2"
  }
 },
 "nbformat": 4,
 "nbformat_minor": 1
}
