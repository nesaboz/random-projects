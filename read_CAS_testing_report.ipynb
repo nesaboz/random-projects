{
 "cells": [
  {
   "cell_type": "code",
   "execution_count": 5,
   "metadata": {
    "collapsed": true
   },
   "outputs": [
    {
     "name": "stdout",
     "output_type": "stream",
     "text": [
      "\\\\blfs02\\Shares\\Operations\\BioFoundry\\Export Data for SQL Import\\CAS testing data\\testing runs\\180314_004050_1.0.36.37946_BSN0025\\180314_004050_CAS_testing_report_1.0.36.37946_BSN0025.txt\n"
     ]
    }
   ],
   "source": [
    "import sys\n",
    "import os\n",
    "import pandas as pd\n",
    "folder = r'\\\\blfs02\\Shares\\Operations\\BioFoundry\\Export Data for SQL Import\\CAS testing data\\testing ' \\\n",
    "         r'runs\\180314_004050_1.0.36.37946_BSN0025'\n",
    "file = r'180314_004050_CAS_testing_report_1.0.36.37946_BSN0025.txt'\n",
    "fullfile = os.path.join(folder, file)\n",
    "print(fullfile)\n"
   ]
  },
  {
   "cell_type": "code",
   "execution_count": 12,
   "metadata": {},
   "outputs": [],
   "source": [
    "a = pd.read_csv(fullfile, sep='\\t')"
   ]
  },
  {
   "cell_type": "code",
   "execution_count": 56,
   "metadata": {},
   "outputs": [
    {
     "data": {
      "text/plain": [
       "(157, 17)"
      ]
     },
     "execution_count": 56,
     "metadata": {},
     "output_type": "execute_result"
    }
   ],
   "source": [
    "# a.where('Fail' in a[' Note '])\n",
    "# only_gold = a['Fail' in a[' Note ']]\n",
    "# a[a[' ValueFloat '] == 1.0].head()\n",
    "a.shape\n",
    "# a.where([x for x in a[' Note '] if 'Fail' in x])\n",
    "# a.Columns\n",
    "\n",
    "# only_gold = a.where('Fail' in a['Note'])\n",
    "# only_gold.head()\n"
   ]
  }
 ],
 "metadata": {
  "kernelspec": {
   "display_name": "Python 2",
   "language": "python",
   "name": "python2"
  },
  "language_info": {
   "codemirror_mode": {
    "name": "ipython",
    "version": 2
   },
   "file_extension": ".py",
   "mimetype": "text/x-python",
   "name": "python",
   "nbconvert_exporter": "python",
   "pygments_lexer": "ipython2",
   "version": "2.7.6"
  }
 },
 "nbformat": 4,
 "nbformat_minor": 0
}
