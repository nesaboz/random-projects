{
 "cells": [
  {
   "cell_type": "code",
   "execution_count": 11,
   "metadata": {
    "collapsed": true
   },
   "outputs": [],
   "source": [
    "import os\n",
    "import matplotlib\n",
    "import numpy as np\n",
    "import matplotlib.pyplot as plt\n",
    "%matplotlib inline  \n",
    "import pandas as pd"
   ]
  },
  {
   "cell_type": "code",
   "execution_count": 12,
   "metadata": {
    "collapsed": true
   },
   "outputs": [
    {
     "name": "stdout",
     "output_type": "stream",
     "text": [
      "\\\\blfs02\\Shares\\Operations\\BioFoundry\\Export Data for SQL Import\\CAS testing data\\testing runs\\180110_040606_1.0.36.37910_BSN0025\\raw_data\n180110_041735_wpi_0_ramp_down.csv\n180110_042350_wpi_1_ramp_down.csv\n180110_042947_wpi_0_ramp_up.csv\n180110_043601_wpi_1_ramp_up.csv\n180110_044206_nest_0_ramp_up.csv\n180110_044746_nest_1_ramp_up.csv\n180110_045338_nest_2_ramp_up.csv\n180110_045932_nest_3_ramp_up.csv\n180110_050522_nest_0_ramp_down.csv\n180110_051117_nest_1_ramp_down.csv\n180110_051708_nest_2_ramp_down.csv\n180110_052308_nest_3_ramp_down.csv\n"
     ]
    }
   ],
   "source": [
    "folder = r'\\\\blfs02\\Shares\\Operations\\BioFoundry\\Export Data for SQL Import\\CAS testing data\\testing runs\\180110_040606_1.0.36.37910_BSN0025\\raw_data'\n",
    "print(folder)\n",
    "list_of_files = [x for x in os.listdir(folder) if 'ramp' in x]\n",
    "print(*list_of_files, sep = '\\n')"
   ]
  },
  {
   "cell_type": "code",
   "execution_count": 13,
   "metadata": {
    "collapsed": true
   },
   "outputs": [
    {
     "name": "stdout",
     "output_type": "stream",
     "text": [
      "Index(['elapsed time', 'temperature'], dtype='object')\n"
     ]
    },
    {
     "data": {
      "text/plain": [
       "[<matplotlib.lines.Line2D at 0x21659da3588>]"
      ]
     },
     "execution_count": 13,
     "metadata": {},
     "output_type": "execute_result"
    },
    {
     "data": {
      "image/png": "[encoded data removed]",
      "text/plain": [
       "<matplotlib.figure.Figure at 0x21659be9748>"
      ]
     },
     "metadata": {},
     "output_type": "display_data"
    }
   ],
   "source": [
    "df = pd.read_csv(os.path.join(folder, list_of_files[0]))\n",
    "print(df.columns)\n",
    "plt.plot(df['elapsed time'], df['temperature'])"
   ]
  },
  {
   "cell_type": "code",
   "execution_count": 15,
   "metadata": {
    "collapsed": true
   },
   "outputs": [
    {
     "name": "stdout",
     "output_type": "stream",
     "text": [
      "['r', 'b', 'g', 'r', 'b', 'g', 'r', 'b', 'g', 'r', 'b', 'g', 'r', 'b', 'g', 'r', 'b', 'g', 'r', 'b', 'g', 'r', 'b', 'g', 'r', 'b', 'g', 'r', 'b', 'g']\n"
     ]
    }
   ],
   "source": [
    "colors = ['r', 'b', 'g']*10\n",
    "leg = []\n",
    "for count, a_file in enumerate(list_of_files):\n",
    "    df = pd.read_csv(os.path.join(folder, a_file))\n",
    "    x = df['elapsed time']\n",
    "    y = df['temperature']\n",
    "    temp, = plt.plot(x, y, colors[count], label = a_file)\n",
    "    leg.append(temp)\n",
    "plt.legend(handles=leg, bbox_to_anchor=(1.04,1))\n",
    "plt.show()"
   ]
  },
  {
   "cell_type": "code",
   "execution_count": 15,
   "metadata": {},
   "outputs": [],
   "source": []
  },
  {
   "cell_type": "code",
   "execution_count": null,
   "metadata": {},
   "outputs": [],
   "source": []
  }
 ],
 "metadata": {
  "kernelspec": {
   "display_name": "Python 3",
   "language": "python",
   "name": "python3"
  },
  "language_info": {
   "codemirror_mode": {
    "name": "ipython",
    "version": 3
   },
   "file_extension": ".py",
   "mimetype": "text/x-python",
   "name": "python",
   "nbconvert_exporter": "python",
   "pygments_lexer": "ipython3",
   "version": "3.6.1"
  }
 },
 "nbformat": 4,
 "nbformat_minor": 2
}
